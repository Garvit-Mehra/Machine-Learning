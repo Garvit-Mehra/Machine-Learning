{
 "cells": [
  {
   "cell_type": "markdown",
   "id": "39f81129-56c9-423b-b59a-a757292abac3",
   "metadata": {},
   "source": [
    "# Temperature conversion"
   ]
  },
  {
   "cell_type": "code",
   "execution_count": 1,
   "id": "e53f41f3-5c55-4a9b-85ac-fa320e10eb64",
   "metadata": {},
   "outputs": [],
   "source": [
    "import numpy as np\n",
    "import tensorflow as tf\n",
    "from tensorflow.keras import Sequential\n",
    "from tensorflow.keras.layers import Dense\n",
    "from tensorflow.keras.optimizers import Adam\n",
    "import utils\n",
    "import logging\n",
    "logger = tf.get_logger()\n",
    "logger.setLevel(logging.ERROR)"
   ]
  },
  {
   "cell_type": "code",
   "execution_count": 4,
   "id": "76484495-bec9-400a-9c7e-fdd6f952e8d6",
   "metadata": {},
   "outputs": [],
   "source": [
    "celcius, farenheit = utils.load_data()"
   ]
  },
  {
   "cell_type": "code",
   "execution_count": 6,
   "id": "9155bd6d-794a-4a53-a837-77f741a9f38d",
   "metadata": {},
   "outputs": [],
   "source": [
    "model = Sequential([\n",
    "    Dense(units=4, input_shape=[1], activation='linear'),\n",
    "    Dense(units=4, activation='linear'),\n",
    "    Dense(units=1, activation='linear')\n",
    "])"
   ]
  },
  {
   "cell_type": "code",
   "execution_count": 7,
   "id": "5ba7e700-79a9-46a6-b8d6-0981833cd1fd",
   "metadata": {},
   "outputs": [],
   "source": [
    "model.compile(loss='mean_squared_error',\n",
    "              optimizer=Adam(0.1))"
   ]
  },
  {
   "cell_type": "code",
   "execution_count": 8,
   "id": "9dbf3ac1-6d73-477b-ad91-fd2da9a9b0de",
   "metadata": {},
   "outputs": [],
   "source": [
    "history = model.fit(celcius, farenheit, epochs=500, verbose=False)"
   ]
  },
  {
   "cell_type": "code",
   "execution_count": 12,
   "id": "9f3252a1-acb5-4108-b4ee-4eeae9be2d8f",
   "metadata": {},
   "outputs": [
    {
     "name": "stdin",
     "output_type": "stream",
     "text": [
      "Enter Temperature in Celcius:  11\n"
     ]
    },
    {
     "name": "stdout",
     "output_type": "stream",
     "text": [
      "\u001b[1m1/1\u001b[0m \u001b[32m━━━━━━━━━━━━━━━━━━━━\u001b[0m\u001b[37m\u001b[0m \u001b[1m0s\u001b[0m 7ms/step\n",
      "11.0°C is 51.80°F\n"
     ]
    }
   ],
   "source": [
    "i = float(input(\"Enter Temperature in Celcius: \"))\n",
    "x = model.predict(np.array([i]))\n",
    "print(f\"{i}°C is {x[0][0]:.2f}°F\")"
   ]
  },
  {
   "cell_type": "code",
   "execution_count": null,
   "id": "704b11f4-4f02-492a-8d6e-150569fb7d7e",
   "metadata": {},
   "outputs": [],
   "source": []
  }
 ],
 "metadata": {
  "kernelspec": {
   "display_name": "Python 3 (ipykernel)",
   "language": "python",
   "name": "python3"
  },
  "language_info": {
   "codemirror_mode": {
    "name": "ipython",
    "version": 3
   },
   "file_extension": ".py",
   "mimetype": "text/x-python",
   "name": "python",
   "nbconvert_exporter": "python",
   "pygments_lexer": "ipython3",
   "version": "3.9.6"
  }
 },
 "nbformat": 4,
 "nbformat_minor": 5
}
